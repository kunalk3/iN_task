{
  "nbformat": 4,
  "nbformat_minor": 0,
  "metadata": {
    "colab": {
      "name": "PythonAssignment_1.ipynb",
      "provenance": [],
      "collapsed_sections": []
    },
    "kernelspec": {
      "name": "python3",
      "display_name": "Python 3"
    }
  },
  "cells": [
    {
      "cell_type": "markdown",
      "metadata": {
        "id": "AeI92NdYlTtg"
      },
      "source": [
        "**Question 1**\r\n",
        "\r\n",
        "Write a program which will find all such numbers which are divisible by 7 but are not a multiple of 5, between 2000 and 3200 (both included). The numbers obtained should be printed in a comma-separated sequence on a single line"
      ]
    },
    {
      "cell_type": "code",
      "metadata": {
        "colab": {
          "base_uri": "https://localhost:8080/"
        },
        "id": "nCpu7MYxkqjr",
        "outputId": "a0e93a81-911a-4e8d-db22-2bf5b4f8a29d"
      },
      "source": [
        "list_ans = list()\r\n",
        "\r\n",
        "for i in range(2000, 3201):\r\n",
        "    if (i % 7) == 0 and (i % 5) != 0:\r\n",
        "        list_ans.append(i)\r\n",
        "        \r\n",
        "print(str(list_ans)[1:-1], sep = \",\")"
      ],
      "execution_count": 1,
      "outputs": [
        {
          "output_type": "stream",
          "text": [
            "2002, 2009, 2016, 2023, 2037, 2044, 2051, 2058, 2072, 2079, 2086, 2093, 2107, 2114, 2121, 2128, 2142, 2149, 2156, 2163, 2177, 2184, 2191, 2198, 2212, 2219, 2226, 2233, 2247, 2254, 2261, 2268, 2282, 2289, 2296, 2303, 2317, 2324, 2331, 2338, 2352, 2359, 2366, 2373, 2387, 2394, 2401, 2408, 2422, 2429, 2436, 2443, 2457, 2464, 2471, 2478, 2492, 2499, 2506, 2513, 2527, 2534, 2541, 2548, 2562, 2569, 2576, 2583, 2597, 2604, 2611, 2618, 2632, 2639, 2646, 2653, 2667, 2674, 2681, 2688, 2702, 2709, 2716, 2723, 2737, 2744, 2751, 2758, 2772, 2779, 2786, 2793, 2807, 2814, 2821, 2828, 2842, 2849, 2856, 2863, 2877, 2884, 2891, 2898, 2912, 2919, 2926, 2933, 2947, 2954, 2961, 2968, 2982, 2989, 2996, 3003, 3017, 3024, 3031, 3038, 3052, 3059, 3066, 3073, 3087, 3094, 3101, 3108, 3122, 3129, 3136, 3143, 3157, 3164, 3171, 3178, 3192, 3199\n"
          ],
          "name": "stdout"
        }
      ]
    },
    {
      "cell_type": "markdown",
      "metadata": {
        "id": "H-Pk9bQklrpX"
      },
      "source": [
        "**Question 2**\r\n",
        "\r\n",
        "Write a Python program to accept the user's first and last name and then getting them printed in the the reverse order with a space between first name and last name."
      ]
    },
    {
      "cell_type": "code",
      "metadata": {
        "colab": {
          "base_uri": "https://localhost:8080/"
        },
        "id": "HcFkqWk1kqhh",
        "outputId": "1e00b9bf-891b-4d68-a6b9-504282f88115"
      },
      "source": [
        "name = list()\r\n",
        "rev_name = list()\r\n",
        "\r\n",
        "f_name = input(\"Enter your First Name: \")\r\n",
        "name.append(f_name)\r\n",
        "rev_name.append(f_name[::-1])\r\n",
        "\r\n",
        "l_name = input(\"Enter your Last Name : \")\r\n",
        "name.append(l_name)\r\n",
        "rev_name.append(l_name[::-1])\r\n",
        "\r\n",
        "print(f\"Reverse Name letters is          : {f_name[::-1]} {l_name[::-1]}\")\r\n",
        "print(f\"Reverse Full Name is             : \" + \" \".join(name[::-1]))\r\n",
        "print(f\"Reverse Full Name with letters is: \" + \" \".join(rev_name[::-1]))"
      ],
      "execution_count": 2,
      "outputs": [
        {
          "output_type": "stream",
          "text": [
            "Enter your First Name: Kunal\n",
            "Enter your Last Name : Kolhe\n",
            "Reverse Name letters is          : lanuK ehloK\n",
            "Reverse Full Name is             : Kolhe Kunal\n",
            "Reverse Full Name with letters is: ehloK lanuK\n"
          ],
          "name": "stdout"
        }
      ]
    },
    {
      "cell_type": "markdown",
      "metadata": {
        "id": "FXyvgY41moig"
      },
      "source": [
        "**Question 3**\r\n",
        "\r\n",
        "Write a Python program to find the volume of a sphere with diameter 12 cm\r\n",
        "\r\n",
        "Formula: V=4/3 * π * r 3"
      ]
    },
    {
      "cell_type": "code",
      "metadata": {
        "colab": {
          "base_uri": "https://localhost:8080/"
        },
        "id": "1051z72Ikqe4",
        "outputId": "6b5d097b-2e12-42ef-8bfd-563a5e7169b3"
      },
      "source": [
        "import math\r\n",
        "\r\n",
        "def calculateVolumeOfSpehere():\r\n",
        "  d = 12\r\n",
        "  r = d/2\r\n",
        "  pi = math.pi\r\n",
        "  print(f'Volume of the spehere is {((4/3)*pi*(r**3))} cm\\u00b3')\r\n",
        "\r\n",
        "if __name__ == '__main__':\r\n",
        "    calculateVolumeOfSpehere()"
      ],
      "execution_count": 3,
      "outputs": [
        {
          "output_type": "stream",
          "text": [
            "Volume of the spehere is 904.7786842338603 cm³\n"
          ],
          "name": "stdout"
        }
      ]
    }
  ]
}