{
  "nbformat": 4,
  "nbformat_minor": 0,
  "metadata": {
    "colab": {
      "name": "PythonAssignment_2.ipynb",
      "provenance": [],
      "collapsed_sections": []
    },
    "kernelspec": {
      "name": "python3",
      "display_name": "Python 3"
    }
  },
  "cells": [
    {
      "cell_type": "markdown",
      "metadata": {
        "id": "GFwNnfdZoRwR"
      },
      "source": [
        "**Question 1**\r\n",
        "\r\n",
        "Create the below pattern using nested for loop in Python.\r\n",
        "\r\n",
        "    *\r\n",
        "    * *\r\n",
        "    * * *\r\n",
        "    * * * *\r\n",
        "    * * * * *\r\n",
        "    * * * *\r\n",
        "    * * *\r\n",
        "    * *\r\n",
        "    *"
      ]
    },
    {
      "cell_type": "code",
      "metadata": {
        "colab": {
          "base_uri": "https://localhost:8080/"
        },
        "id": "VHikSIosoLMK",
        "outputId": "bce377e9-de3e-481f-9f20-6778ec7bb97c"
      },
      "source": [
        "for i in range(6):\r\n",
        "  for j in range(i):\r\n",
        "    print(\"*\", end = \" \")\r\n",
        "  print(end=\"\\n\")\r\n",
        "for k in range(4, 0, -1):\r\n",
        "  for l in range(k):\r\n",
        "    print(\"*\", end = \" \")\r\n",
        "  print(end=\"\\n\")"
      ],
      "execution_count": 1,
      "outputs": [
        {
          "output_type": "stream",
          "text": [
            "\n",
            "* \n",
            "* * \n",
            "* * * \n",
            "* * * * \n",
            "* * * * * \n",
            "* * * * \n",
            "* * * \n",
            "* * \n",
            "* \n"
          ],
          "name": "stdout"
        }
      ]
    },
    {
      "cell_type": "markdown",
      "metadata": {
        "id": "ZibXqddSo5oa"
      },
      "source": [
        "**Question 2**\r\n",
        "\r\n",
        "Write a Python program to reverse a word after accepting the input from the user.\r\n",
        "\r\n",
        "Input word: Ineuron\r\n",
        "\r\n",
        "Output: noruenI"
      ]
    },
    {
      "cell_type": "code",
      "metadata": {
        "colab": {
          "base_uri": "https://localhost:8080/"
        },
        "id": "Unx3koRUoNWp",
        "outputId": "0768a436-01e7-478a-b2c2-97ce970260c0"
      },
      "source": [
        "word = input(\"Enter a word: \")\r\n",
        "print(f\"Reverse word is: {word[::-1]}\")"
      ],
      "execution_count": 2,
      "outputs": [
        {
          "output_type": "stream",
          "text": [
            "Enter a word: Ineuron\n",
            "Reverse word is: noruenI\n"
          ],
          "name": "stdout"
        }
      ]
    }
  ]
}